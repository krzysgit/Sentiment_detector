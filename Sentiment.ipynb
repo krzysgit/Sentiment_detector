{
 "cells": [
  {
   "cell_type": "code",
   "execution_count": null,
   "metadata": {
    "colab": {
     "base_uri": "https://localhost:8080/",
     "height": 407,
     "referenced_widgets": [
      "9563ed62b1374ff687d08faf7e741205",
      "49f7d0b1d78f47c8944669ed17ee2d9c",
      "3cc6dafeb3084d5aafac4b217a7e2165",
      "06ec393ac891437184548e7f9ecc6d38",
      "8f51c0a6c7db4385ade06994f6b8a0ab",
      "fe3c00aa84c141efaa525dffeb36da62",
      "9d5060a793874168af61be7bb6458dc9",
      "615af6095b6f4c669f5ada05fbbf30c0",
      "f67a14a6d8b84091bd0e45b6d621f981",
      "a6d9d2204b2844c1abaae36a4229fac6",
      "597506760f084b0fa071a897c1d68b56",
      "33a856e2e71f4a30ac10a76217747610",
      "c8a7037d87c04adcb7fd61289d4e6ca9",
      "47cbb5fd3c0a4d72b9becb60d3c1c6a9",
      "144f16d70ed344beb384d06868ae5302",
      "9d87bd9631c641c79379fd2a37514be1",
      "3b3760a64183441eb7541ce66fd6b65c",
      "9fd1defd761b4d039a5ec156c56f1a6a",
      "1f8e9280ebcd4f6bb02a78f73df4a064",
      "a1dca923267d4e7da98684b8c51f2bf2",
      "07ad9f8cc090425e9d6c19081229fdf3",
      "11bc3deef8bf4fb7b780badffc59629e",
      "4f846fe830be4a0e9bc642ff1c317a91",
      "b122ee21be5a4966b75ef57d2a40d270",
      "baf102d7fe124841ac710674a6c9ed5a",
      "76d3e36621c2438bb261e6cfaa20dee0",
      "3b73ddf2e683456b9cff5826094b3539",
      "1cf2fbb350374c3e9b3511d9af661a32",
      "a661618178d042c09a3ca7206ac4351e",
      "4e65c318988940f5bf80ad15242a3c94",
      "0422331177a94916b506ed66c04b0955",
      "81b142fc8bb4417b8505920038ceec11",
      "3a66390fbe054a0781bf2ca71e03b233",
      "4c53679ea3f945ca822d1dbfe79f6d27",
      "a0fcffb726444556974a24152f591d66",
      "6f742ed370d04d9b850b3f7e9410f56d",
      "814bcf05944347ffafe5b97e20317ba8",
      "cb9a2230c13a456996dfe701d1912197",
      "dbabeb91963f454087181a04b2383bfd",
      "4e18296e6c65410f8a3617f782009a08",
      "d4846f4f0f9d4b5783d3d75dfd75cc82",
      "88ffccc0c3ff4cd0a68a75440b9277a0",
      "90ea1485cf5849e8951f2049667810cb",
      "40ae788fd4f949d09e6a24604bbd1c01",
      "6735aa7659c84b45b05b9a2be6dabb21",
      "6dd3786891f243ccbc8d89c65f4dbfab",
      "79faaf16776848cfb51e3dee2d25807f",
      "2f1b9c489b094da38ad42fcf4221e45d",
      "16ccdb600a6e4340988737f3c848b059",
      "84d135729ace4036b4708d74cd380edf",
      "1248a7088445462187803fe1c5c8d59a",
      "94456b3ad05f45ba9b5e4c1d1c210509",
      "4e327837da064c588ca97426479fc0f9",
      "b22a9df27dbb46a9ab05c7d95a955506",
      "63add4b59eec43858f72e6b323eeff07",
      "02841ef63ec243c5bc294bccef2c6a1a",
      "9b29e70d39ca4cb3bd1f4c1706141076",
      "c3dc6560c8d94306a7c5f5aea4d311a1",
      "22552191b3b549f583de354d0a9bf387",
      "ca10df3a476248e79ab9588fb5488125",
      "0c88074c74ed40438bdac9f61b50b002",
      "53f5f787c2d1439d9628e341857b5b68",
      "e2c4d9b8d640485a99c4cc1aa935f00d",
      "efd9c3d37f2d4fe092c1d858c91ffe9e",
      "06b94849f7ac4eee8a0d157c0be08647",
      "050b5cd6685240628ffcf5c9a0f7fc26",
      "092ab3693fa44b33800a9d40291d7ce0",
      "cc38167776564533a1dd16de356f8fe6",
      "ff1422d3e4ff46fc905f2f40e850e0a8",
      "9ed6972564734a8391056013a71bb56b",
      "f6aa0b1976f54a23ba95251d40b506cc",
      "707677c275a446c0a0497a196aa70bc7",
      "567981725b724a608a18a06c2d009c57",
      "fb09040bbbe04182aaf230e267b2dab6",
      "4f4d967cafb04edc9261993f8daa163b",
      "4aa4c91ca626453c97a1053a419d697a",
      "9f28bc3c40bb4353b2e219e47fc5b80e"
     ]
    },
    "id": "jFn4LUyy07qb",
    "outputId": "e438fe61-74da-4328-fe27-26255f14f372"
   },
   "outputs": [],
   "source": [
    "from datasets import load_dataset\n",
    "\n",
    "dataset = load_dataset(\"cardiffnlp/tweet_eval\", \"sentiment\")\n",
    "dataset_train = dataset[\"train\"]\n",
    "dataset_eval = dataset[\"validation\"]"
   ]
  },
  {
   "cell_type": "code",
   "execution_count": null,
   "metadata": {
    "colab": {
     "base_uri": "https://localhost:8080/",
     "height": 310,
     "referenced_widgets": [
      "5a2fe4f5047d462d8bf3af842505c65a",
      "68fc103cb19b4a8593c058aa609f1484",
      "7c56dfe0b2204b53a34a6802a1bb4ecd",
      "51f132e0eb934c02977463dd834c6a43",
      "ea94c00136d3492bb83b3fbf0e492bae",
      "1327206345024bb9bed75e915e6aed44",
      "1778a31ad24a47a188eae95b5fd1c140",
      "2c3f0b5247c44c17897489bb0eee9715",
      "976be71393b64e598002e85ac9e40c16",
      "a68ae3a2acfc4fd994ce23047779ddaa",
      "25e2d0d305b54e1a87c91d3ae3b1d9bd",
      "1569e1eab3ad431d9963c39fa6c0ba21",
      "78b2e67aeff942d2a2904d8731f97d30",
      "38329fd862e0493e8f59520e03fb10d6",
      "1c2ae5afaa534f148550baf14b5920bb",
      "64dd6e2cc817494fbed72eef87b38383",
      "e119eb6ebe3c462aa78ed491d17438de",
      "d9ab125e83054d2b99aea608edb3052d",
      "82ab48d69a1b4a838e4a54a10a728707",
      "c7b102d5e42d45d4b58bcff787c79991",
      "c5d87c876b53436c85d633e3f0f6ce1e",
      "48fe741d1d514578a8d829b00858523c",
      "0a39e0ce7b69437c8a50efb8a0b6dd47",
      "a5baf425249343ea9edb9ffaa15ecb2d",
      "47b0080f6412498aa41f783817bbf92e",
      "b646190ac18f40eb803eeba42203f929",
      "a84d1dc7b1cb4551b0018c31f67d5489",
      "01658226c1d748029d5de242357883d3",
      "607391a4c379420fa26c3bdf47b2d683",
      "710c10369566431fa0cbb684fc74c68b",
      "e02e32da333b4b649a5a4d3f4555b1d0",
      "8f69074a6a434675adf55acda5b25ae3",
      "9f17314a22304f66868eb025ff5e558c",
      "538be3f259cb4cb78aeee4b5bc36b758",
      "04706310d5c94cc2a72a00e174b1ff90",
      "d8ef105dfc1d479781d2967cc3ec9088",
      "a0f253078e564545b74af5e86fed9dec",
      "a12190a5deb246cead3e6cc315889a36",
      "09704e5794b44d459539d672bbc613c2",
      "17135744d1024c73bf5166c23f6c45ac",
      "dd575caa982b4308adc690aaf038bde0",
      "0f78b20b6ab2473c9800f9a517b0eff9",
      "23130055f9c44025a948f0bd10ab2f57",
      "2f5f88c408894059b807dc0ef8a8e1b3",
      "85aad51228fa45e784ca4c53a2617af3",
      "db08a7efc8384f0eb59b977e29714913",
      "3197bb13c93a4c91a6c510a8ab901ea9",
      "744f92489b97444c8f9d9ead5be7cabd",
      "a591be25eaf84fc69b8b3743d0c72cde",
      "bb59c7fa41eb46d59bfa8a0741454089",
      "b29837c2341f4e2ea6df7bae6c1b3536",
      "5fb8dbcf1dc3452bbf6b8d1dca022b9f",
      "ac7170d508284300b953d79f4dc9824e",
      "d4d13616d02a43619a18c1f334b9f15a",
      "676625a812fa45c491ee9650415a224e"
     ]
    },
    "id": "hTWuy6Kj5xV9",
    "outputId": "dc01597e-0025-49f8-af02-cc6b9314b080"
   },
   "outputs": [],
   "source": [
    "from transformers import AutoModelForSequenceClassification, AutoTokenizer\n",
    "\n",
    "tokenizer = AutoTokenizer.from_pretrained(\"distilbert-base-uncased\")\n",
    "model = AutoModelForSequenceClassification.from_pretrained(\"distilbert-base-uncased\", num_labels =3)"
   ]
  },
  {
   "cell_type": "code",
   "execution_count": null,
   "metadata": {
    "id": "Tc3DZWYOQcJr"
   },
   "outputs": [],
   "source": [
    "dataset_tokenized = tokenizer(\n",
    "      dataset[\"train\"][\"text\"],\n",
    "      padding = \"max_length\",\n",
    "      max_length = 512,\n",
    ")\n",
    "\n",
    "dataset_tokenized_validation = tokenizer(\n",
    "      dataset[\"validation\"][\"text\"],\n",
    "      padding = \"max_length\",\n",
    "      max_length = 512,\n",
    ")"
   ]
  },
  {
   "cell_type": "code",
   "execution_count": null,
   "metadata": {
    "id": "Fg6MIuUVe6oq"
   },
   "outputs": [],
   "source": [
    "from datasets import Dataset\n",
    "\n",
    "Dataset_train = Dataset.from_dict({\n",
    "    \"input_ids\": dataset_tokenized[\"input_ids\"],\n",
    "    \"attention_mask\" : dataset_tokenized[\"attention_mask\"],\n",
    "    \"labels\" : dataset[\"train\"][\"label\"],\n",
    "})\n",
    "\n",
    "Dataset_validation = Dataset.from_dict({\n",
    "    \"input_ids\": dataset_tokenized_validation[\"input_ids\"],\n",
    "    \"attention_mask\" : dataset_tokenized_validation[\"attention_mask\"],\n",
    "    \"labels\" : dataset[\"validation\"][\"label\"],\n",
    "})"
   ]
  },
  {
   "cell_type": "code",
   "execution_count": null,
   "metadata": {
    "id": "qsxMHm6qikup"
   },
   "outputs": [],
   "source": [
    "import numpy as np\n",
    "from sklearn.metrics import accuracy_score"
   ]
  },
  {
   "cell_type": "code",
   "execution_count": null,
   "metadata": {},
   "outputs": [],
   "source": [
    "import torch\n",
    "\n",
    "def compute_metrics(eval_pred):\n",
    "  logits, labels = eval_pred\n",
    "  preds = np.argmax(logits, axis=-1)\n",
    "  return {\"accuracy:\": accuracy_score(labels,preds)}\n",
    "\n",
    "def predict_sentiment_batch(texts):\n",
    "    inputs = tokenizer(texts, return_tensors=\"pt\", padding=True, truncation=True)\n",
    "    outputs = model(**inputs)\n",
    "    probs = torch.nn.functional.softmax(outputs.logits, dim=-1)\n",
    "    predictions = torch.argmax(probs, dim=-1)\n",
    "    labels = [\"negative\", \"neutral\", \"positive\"]\n",
    "    return [labels[i] for i in predictions]"
   ]
  },
  {
   "cell_type": "code",
   "execution_count": null,
   "metadata": {
    "colab": {
     "base_uri": "https://localhost:8080/"
    },
    "id": "Nr5dUY_0i7kL",
    "outputId": "830b90d2-62df-4495-c787-3ea97e34d09f"
   },
   "outputs": [],
   "source": [
    "from transformers import Trainer, TrainingArguments\n",
    "\n",
    "training_args = TrainingArguments(\n",
    "    output_dir=\"./model\",\n",
    "    per_device_train_batch_size= 8,\n",
    "    per_device_eval_batch_size = 8,\n",
    "    num_train_epochs= 1,\n",
    "    eval_strategy = \"epoch\"\n",
    "    )\n",
    "\n",
    "trainer = Trainer(\n",
    "    model = model,\n",
    "    args = training_args,\n",
    "    train_dataset = Dataset_train,\n",
    "    eval_dataset= Dataset_validation,\n",
    "    tokenizer = tokenizer,\n",
    "    compute_metrics=compute_metrics,\n",
    ")"
   ]
  },
  {
   "cell_type": "code",
   "execution_count": null,
   "metadata": {
    "id": "-0SAWoEOMcvi"
   },
   "outputs": [],
   "source": [
    "import os\n",
    "os.environ[\"WANDB_DISABLED\"] = \"true\"\n",
    "trainer.train()"
   ]
  },
  {
   "cell_type": "code",
   "execution_count": null,
   "metadata": {},
   "outputs": [],
   "source": [
    "model.save_pretrained(\"./model\")\n",
    "tokenizer.save_pretrained(\"./model\")"
   ]
  },
  {
   "cell_type": "code",
   "execution_count": null,
   "metadata": {},
   "outputs": [],
   "source": [
    "print(predict_sentiment_batch([\"I love you\"]))"
   ]
  }
 ],
 "metadata": {
  "accelerator": "GPU",
  "colab": {
   "gpuType": "T4",
   "provenance": []
  },
  "kernelspec": {
   "display_name": "ai-env",
   "language": "python",
   "name": "python3"
  },
  "language_info": {
   "codemirror_mode": {
    "name": "ipython",
    "version": 3
   },
   "file_extension": ".py",
   "mimetype": "text/x-python",
   "name": "python",
   "nbconvert_exporter": "python",
   "pygments_lexer": "ipython3",
   "version": "3.10.16"
  }
 },
 "nbformat": 4,
 "nbformat_minor": 0
}
